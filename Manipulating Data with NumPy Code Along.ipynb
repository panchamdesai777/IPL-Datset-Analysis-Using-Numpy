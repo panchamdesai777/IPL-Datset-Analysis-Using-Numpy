{
 "cells": [
  {
   "cell_type": "markdown",
   "metadata": {},
   "source": [
    "# IPL Dataset Analysis\n",
    "\n",
    "## Problem Statement\n",
    "We want to know as to what happens during an IPL match which raises several questions in our mind with our limited knowledge about the game called cricket on which it is based. This analysis is done to know as which factors led one of the team to win and how does it matter."
   ]
  },
  {
   "cell_type": "markdown",
   "metadata": {},
   "source": [
    "## About the Dataset :\n",
    "The Indian Premier League (IPL) is a professional T20 cricket league in India contested during April-May of every year by teams representing Indian cities. It is the most-attended cricket league in the world and ranks sixth among all the sports leagues. It has teams with players from around the world and is very competitive and entertaining with a lot of close matches between teams.\n",
    "\n",
    "The IPL and other cricket related datasets are available at [cricsheet.org](https://cricsheet.org/%c2%a0(data). Feel free to visit the website and explore the data by yourself as exploring new sources of data is one of the interesting activities a data scientist gets to do.\n",
    "\n",
    "## About the dataset:\n",
    "Snapshot of the data you will be working on:<br>\n",
    "<br>\n",
    "The dataset 1452 data points and 23 features<br>\n",
    "\n",
    "|Features|Description|\n",
    "|-----|-----|\n",
    "|match_code|Code pertaining to individual match|\n",
    "|date|Date of the match played|\n",
    "|city|Location where the match was played|\n",
    "|team1|team1|\n",
    "|team2|team2|\n",
    "|toss_winner|Who won the toss out of two teams|\n",
    "|toss_decision|toss decision taken by toss winner|\n",
    "|winner|Winner of that match between two teams|\n",
    "|win_type|How did the team won(by wickets or runs etc.)|\n",
    "|win_margin|difference with which the team won| \n",
    "|inning|inning type(1st or 2nd)|\n",
    "|delivery|ball delivery|\n",
    "|batting_team|current team on batting|\n",
    "|batsman|current batsman on strike|\n",
    "|non_striker|batsman on non-strike|\n",
    "|bowler|Current bowler|\n",
    "|runs|runs scored|\n",
    "|extras|extra run scored|\n",
    "|total|total run scored on that delivery including runs and extras|\n",
    "|extras_type|extra run scored by wides or no ball or legby|\n",
    "|player_out|player that got out|\n",
    "|wicket_kind|How did the player got out|\n",
    "|wicket_fielders|Fielder who caught out the player by catch|\n"
   ]
  },
  {
   "cell_type": "markdown",
   "metadata": {},
   "source": [
    "### Analysing data using numpy module"
   ]
  },
  {
   "cell_type": "markdown",
   "metadata": {},
   "source": [
    "### Read the data using numpy module."
   ]
  },
  {
   "cell_type": "code",
   "execution_count": 2,
   "metadata": {},
   "outputs": [],
   "source": [
    "import numpy as np\n",
    "# Not every data format will be in csv there are other file formats also.\n",
    "# This exercise will help you deal with other file formats and how toa read it.\n",
    "path = './data/ipl_matches_small.csv'\n",
    "data_ipl = np.genfromtxt(path, delimiter=',', skip_header=1, dtype=str)"
   ]
  },
  {
   "cell_type": "code",
   "execution_count": 4,
   "metadata": {},
   "outputs": [
    {
     "data": {
      "text/plain": [
       "array(['Kolkata Knight Riders', 'Kolkata Knight Riders',\n",
       "       'Kolkata Knight Riders', ..., 'Rajasthan Royals',\n",
       "       'Rajasthan Royals', 'Rajasthan Royals'], dtype='<U21')"
      ]
     },
     "execution_count": 4,
     "metadata": {},
     "output_type": "execute_result"
    }
   ],
   "source": [
    "data_ipl[:,3]"
   ]
  },
  {
   "cell_type": "markdown",
   "metadata": {},
   "source": [
    "### Calculate the unique no. of matches in the provided dataset ?"
   ]
  },
  {
   "cell_type": "code",
   "execution_count": 5,
   "metadata": {
    "scrolled": true
   },
   "outputs": [
    {
     "data": {
      "text/plain": [
       "6"
      ]
     },
     "execution_count": 5,
     "metadata": {},
     "output_type": "execute_result"
    }
   ],
   "source": [
    "# How many matches were held in total we need to know so that we can analyze further statistics keeping that in mind.\n",
    "len(set(data_ipl[:,0]))"
   ]
  },
  {
   "cell_type": "markdown",
   "metadata": {},
   "source": [
    "### Find the set of all unique teams that played in the matches in the data set."
   ]
  },
  {
   "cell_type": "code",
   "execution_count": 4,
   "metadata": {},
   "outputs": [],
   "source": [
    "# this exercise deals with you getting to know that which are all those six teams that played in the tournament.\n"
   ]
  },
  {
   "cell_type": "code",
   "execution_count": 14,
   "metadata": {},
   "outputs": [
    {
     "name": "stdout",
     "output_type": "stream",
     "text": [
      "{'Chennai Super Kings', 'Kolkata Knight Riders', 'Deccan Chargers', 'Pune Warriors', 'Kings XI Punjab', 'Rajasthan Royals', 'Mumbai Indians'}\n"
     ]
    }
   ],
   "source": [
    "a=data_ipl[:,3]\n",
    "\n",
    "b=data_ipl[:,4]\n",
    "\n",
    "c=np.concatenate((a,b),axis=0)\n",
    "print(set(c))"
   ]
  },
  {
   "cell_type": "markdown",
   "metadata": {},
   "source": [
    "### Find sum of all extras in all deliveries in all matches in the dataset"
   ]
  },
  {
   "cell_type": "code",
   "execution_count": 26,
   "metadata": {},
   "outputs": [
    {
     "data": {
      "text/plain": [
       "88"
      ]
     },
     "execution_count": 26,
     "metadata": {},
     "output_type": "execute_result"
    }
   ],
   "source": [
    "# An exercise to make you familiar with indexing and slicing up within data.\n",
    "a=np.asarray(data_ipl[:,17],dtype='int64')\n",
    "np.sum(a)\n"
   ]
  },
  {
   "cell_type": "markdown",
   "metadata": {},
   "source": [
    "### Get the array of all delivery numbers when a given player got out. Also mention the wicket type."
   ]
  },
  {
   "cell_type": "code",
   "execution_count": 60,
   "metadata": {},
   "outputs": [
    {
     "data": {
      "text/plain": [
       "array([['392203', '2009-05-01', 'East London', 'Kolkata Knight Riders',\n",
       "        'Mumbai Indians', 'Mumbai Indians', 'bat', 'Mumbai Indians',\n",
       "        'runs', '9.0', '1', '0.1', 'Mumbai Indians', 'ST Jayasuriya',\n",
       "        'SR Tendulkar', 'I Sharma', '0', '1', '1', 'wides', '', '', ''],\n",
       "       ['392203', '2009-05-01', 'East London', 'Kolkata Knight Riders',\n",
       "        'Mumbai Indians', 'Mumbai Indians', 'bat', 'Mumbai Indians',\n",
       "        'runs', '9.0', '1', '0.2', 'Mumbai Indians', 'ST Jayasuriya',\n",
       "        'SR Tendulkar', 'I Sharma', '1', '0', '1', '', '', '', ''],\n",
       "       ['392203', '2009-05-01', 'East London', 'Kolkata Knight Riders',\n",
       "        'Mumbai Indians', 'Mumbai Indians', 'bat', 'Mumbai Indians',\n",
       "        'runs', '9.0', '1', '0.3', 'Mumbai Indians', 'SR Tendulkar',\n",
       "        'ST Jayasuriya', 'I Sharma', '0', '1', '1', 'wides', '', '', ''],\n",
       "       ['392203', '2009-05-01', 'East London', 'Kolkata Knight Riders',\n",
       "        'Mumbai Indians', 'Mumbai Indians', 'bat', 'Mumbai Indians',\n",
       "        'runs', '9.0', '1', '0.4', 'Mumbai Indians', 'SR Tendulkar',\n",
       "        'ST Jayasuriya', 'I Sharma', '0', '0', '0', '', '', '', ''],\n",
       "       ['392203', '2009-05-01', 'East London', 'Kolkata Knight Riders',\n",
       "        'Mumbai Indians', 'Mumbai Indians', 'bat', 'Mumbai Indians',\n",
       "        'runs', '9.0', '1', '0.5', 'Mumbai Indians', 'SR Tendulkar',\n",
       "        'ST Jayasuriya', 'I Sharma', '2', '0', '2', '', '', '', ''],\n",
       "       ['392203', '2009-05-01', 'East London', 'Kolkata Knight Riders',\n",
       "        'Mumbai Indians', 'Mumbai Indians', 'bat', 'Mumbai Indians',\n",
       "        'runs', '9.0', '1', '0.6', 'Mumbai Indians', 'SR Tendulkar',\n",
       "        'ST Jayasuriya', 'I Sharma', '0', '0', '0', '', '', '', ''],\n",
       "       ['392203', '2009-05-01', 'East London', 'Kolkata Knight Riders',\n",
       "        'Mumbai Indians', 'Mumbai Indians', 'bat', 'Mumbai Indians',\n",
       "        'runs', '9.0', '1', '0.7', 'Mumbai Indians', 'SR Tendulkar',\n",
       "        'ST Jayasuriya', 'I Sharma', '0', '0', '0', '', '', '', ''],\n",
       "       ['392203', '2009-05-01', 'East London', 'Kolkata Knight Riders',\n",
       "        'Mumbai Indians', 'Mumbai Indians', 'bat', 'Mumbai Indians',\n",
       "        'runs', '9.0', '1', '0.8', 'Mumbai Indians', 'SR Tendulkar',\n",
       "        'ST Jayasuriya', 'I Sharma', '4', '0', '4', '', '', '', ''],\n",
       "       ['392203', '2009-05-01', 'East London', 'Kolkata Knight Riders',\n",
       "        'Mumbai Indians', 'Mumbai Indians', 'bat', 'Mumbai Indians',\n",
       "        'runs', '9.0', '1', '1.1', 'Mumbai Indians', 'ST Jayasuriya',\n",
       "        'SR Tendulkar', 'AB Dinda', '4', '0', '4', '', '', '', ''],\n",
       "       ['392203', '2009-05-01', 'East London', 'Kolkata Knight Riders',\n",
       "        'Mumbai Indians', 'Mumbai Indians', 'bat', 'Mumbai Indians',\n",
       "        'runs', '9.0', '1', '1.2', 'Mumbai Indians', 'ST Jayasuriya',\n",
       "        'SR Tendulkar', 'AB Dinda', '0', '0', '0', '', '', '', ''],\n",
       "       ['392203', '2009-05-01', 'East London', 'Kolkata Knight Riders',\n",
       "        'Mumbai Indians', 'Mumbai Indians', 'bat', 'Mumbai Indians',\n",
       "        'runs', '9.0', '1', '1.3', 'Mumbai Indians', 'ST Jayasuriya',\n",
       "        'SR Tendulkar', 'AB Dinda', '1', '0', '1', '', '', '', ''],\n",
       "       ['392203', '2009-05-01', 'East London', 'Kolkata Knight Riders',\n",
       "        'Mumbai Indians', 'Mumbai Indians', 'bat', 'Mumbai Indians',\n",
       "        'runs', '9.0', '1', '1.4', 'Mumbai Indians', 'SR Tendulkar',\n",
       "        'ST Jayasuriya', 'AB Dinda', '0', '0', '0', '', '', '', ''],\n",
       "       ['392203', '2009-05-01', 'East London', 'Kolkata Knight Riders',\n",
       "        'Mumbai Indians', 'Mumbai Indians', 'bat', 'Mumbai Indians',\n",
       "        'runs', '9.0', '1', '1.5', 'Mumbai Indians', 'SR Tendulkar',\n",
       "        'ST Jayasuriya', 'AB Dinda', '0', '0', '0', '', '', '', ''],\n",
       "       ['392203', '2009-05-01', 'East London', 'Kolkata Knight Riders',\n",
       "        'Mumbai Indians', 'Mumbai Indians', 'bat', 'Mumbai Indians',\n",
       "        'runs', '9.0', '1', '1.6', 'Mumbai Indians', 'SR Tendulkar',\n",
       "        'ST Jayasuriya', 'AB Dinda', '1', '0', '1', '', '', '', ''],\n",
       "       ['392203', '2009-05-01', 'East London', 'Kolkata Knight Riders',\n",
       "        'Mumbai Indians', 'Mumbai Indians', 'bat', 'Mumbai Indians',\n",
       "        'runs', '9.0', '1', '2.1', 'Mumbai Indians', 'SR Tendulkar',\n",
       "        'ST Jayasuriya', 'I Sharma', '0', '0', '0', '', '', '', ''],\n",
       "       ['392203', '2009-05-01', 'East London', 'Kolkata Knight Riders',\n",
       "        'Mumbai Indians', 'Mumbai Indians', 'bat', 'Mumbai Indians',\n",
       "        'runs', '9.0', '1', '2.2', 'Mumbai Indians', 'SR Tendulkar',\n",
       "        'ST Jayasuriya', 'I Sharma', '0', '0', '0', '', '', '', ''],\n",
       "       ['392203', '2009-05-01', 'East London', 'Kolkata Knight Riders',\n",
       "        'Mumbai Indians', 'Mumbai Indians', 'bat', 'Mumbai Indians',\n",
       "        'runs', '9.0', '1', '2.3', 'Mumbai Indians', 'SR Tendulkar',\n",
       "        'ST Jayasuriya', 'I Sharma', '1', '0', '1', '', '', '', ''],\n",
       "       ['392203', '2009-05-01', 'East London', 'Kolkata Knight Riders',\n",
       "        'Mumbai Indians', 'Mumbai Indians', 'bat', 'Mumbai Indians',\n",
       "        'runs', '9.0', '1', '2.4', 'Mumbai Indians', 'ST Jayasuriya',\n",
       "        'SR Tendulkar', 'I Sharma', '0', '2', '2', 'byes', '', '', ''],\n",
       "       ['392203', '2009-05-01', 'East London', 'Kolkata Knight Riders',\n",
       "        'Mumbai Indians', 'Mumbai Indians', 'bat', 'Mumbai Indians',\n",
       "        'runs', '9.0', '1', '2.5', 'Mumbai Indians', 'ST Jayasuriya',\n",
       "        'SR Tendulkar', 'I Sharma', '0', '0', '0', '', '', '', ''],\n",
       "       ['392203', '2009-05-01', 'East London', 'Kolkata Knight Riders',\n",
       "        'Mumbai Indians', 'Mumbai Indians', 'bat', 'Mumbai Indians',\n",
       "        'runs', '9.0', '1', '2.6', 'Mumbai Indians', 'ST Jayasuriya',\n",
       "        'SR Tendulkar', 'I Sharma', '0', '0', '0', '', '', '', '']],\n",
       "      dtype='<U21')"
      ]
     },
     "execution_count": 60,
     "metadata": {},
     "output_type": "execute_result"
    }
   ],
   "source": [
    "d=data_ipl[:20]\n",
    "d"
   ]
  },
  {
   "cell_type": "code",
   "execution_count": 62,
   "metadata": {},
   "outputs": [
    {
     "data": {
      "text/plain": [
       "[('3.2', 'caught'),\n",
       " ('5.5', 'caught'),\n",
       " ('7.6', 'caught'),\n",
       " ('11.4', 'bowled'),\n",
       " ('15.6', 'caught'),\n",
       " ('18.6', 'caught'),\n",
       " ('0.4', 'bowled'),\n",
       " ('2.2', 'bowled'),\n",
       " ('14.5', 'caught'),\n",
       " ('17.2', 'bowled'),\n",
       " ('18.6', 'run out'),\n",
       " ('19.3', 'caught'),\n",
       " ('12.2', 'lbw'),\n",
       " ('13.5', 'caught'),\n",
       " ('14.4', 'caught'),\n",
       " ('15.1', 'run out'),\n",
       " ('16.6', 'caught'),\n",
       " ('18.5', 'caught'),\n",
       " ('1.7', 'caught'),\n",
       " ('2.7', 'caught'),\n",
       " ('10.2', 'bowled'),\n",
       " ('12.1', 'caught'),\n",
       " ('12.3', 'caught'),\n",
       " ('13.2', 'caught'),\n",
       " ('14.5', 'caught'),\n",
       " ('15.1', 'bowled'),\n",
       " ('15.2', 'bowled'),\n",
       " ('1.5', 'caught'),\n",
       " ('5.3', 'caught'),\n",
       " ('9.4', 'bowled'),\n",
       " ('12.6', 'bowled'),\n",
       " ('17.1', 'caught'),\n",
       " ('19.1', 'run out'),\n",
       " ('1.4', 'caught'),\n",
       " ('1.5', 'bowled'),\n",
       " ('8.5', 'caught'),\n",
       " ('14.1', 'caught'),\n",
       " ('15.5', 'bowled'),\n",
       " ('15.6', 'bowled'),\n",
       " ('17.1', 'caught'),\n",
       " ('17.3', 'stumped'),\n",
       " ('5.3', 'caught'),\n",
       " ('7.2', 'caught'),\n",
       " ('8.2', 'caught'),\n",
       " ('10.1', 'run out'),\n",
       " ('11.1', 'caught'),\n",
       " ('14.5', 'caught'),\n",
       " ('1.3', 'run out'),\n",
       " ('5.2', 'caught'),\n",
       " ('6.4', 'caught'),\n",
       " ('6.5', 'caught and bowled'),\n",
       " ('10.5', 'caught'),\n",
       " ('12.6', 'caught'),\n",
       " ('13.3', 'caught'),\n",
       " ('14.2', 'bowled'),\n",
       " ('18.3', 'caught'),\n",
       " ('19.5', 'run out'),\n",
       " ('9.2', 'caught'),\n",
       " ('9.6', 'bowled'),\n",
       " ('16.4', 'stumped'),\n",
       " ('17.2', 'caught'),\n",
       " ('17.5', 'caught'),\n",
       " ('19.6', 'caught'),\n",
       " ('2.4', 'bowled'),\n",
       " ('3.6', 'bowled'),\n",
       " ('4.6', 'bowled'),\n",
       " ('5.3', 'bowled'),\n",
       " ('12.6', 'caught'),\n",
       " ('18.3', 'caught'),\n",
       " ('18.5', 'run out'),\n",
       " ('19.1', 'run out'),\n",
       " ('19.2', 'caught'),\n",
       " ('4.5', 'bowled'),\n",
       " ('6.3', 'caught and bowled'),\n",
       " ('7.4', 'stumped'),\n",
       " ('8.6', 'lbw'),\n",
       " ('16.5', 'lbw'),\n",
       " ('17.2', 'bowled'),\n",
       " ('17.4', 'caught'),\n",
       " ('18.6', 'run out'),\n",
       " ('1.1', 'caught'),\n",
       " ('2.3', 'caught and bowled'),\n",
       " ('4.5', 'caught'),\n",
       " ('11.2', 'lbw')]"
      ]
     },
     "execution_count": 62,
     "metadata": {},
     "output_type": "execute_result"
    }
   ],
   "source": [
    "deliveries=data_ipl[data_ipl[:,20] !=''][:,11]\n",
    "kind=data_ipl[data_ipl[:,20] !=''][:,21]\n",
    "list(zip(deliveries,kind))"
   ]
  },
  {
   "cell_type": "markdown",
   "metadata": {},
   "source": [
    "### How many matches the team `Mumbai Indians` has won the toss?"
   ]
  },
  {
   "cell_type": "code",
   "execution_count": 80,
   "metadata": {},
   "outputs": [
    {
     "data": {
      "text/plain": [
       "{'392197', '392203'}"
      ]
     },
     "execution_count": 80,
     "metadata": {},
     "output_type": "execute_result"
    }
   ],
   "source": [
    "# this exercise will help you get the statistics on one particular team\n",
    "win=[]\n",
    "toss= data_ipl[data_ipl[:,5]=='Mumbai Indians'][:,0]\n",
    "toss\n",
    "set(toss)\n"
   ]
  },
  {
   "cell_type": "markdown",
   "metadata": {},
   "source": [
    "### Create a filter that filters only those records where the batsman scored 6 runs. Also who has scored the maximum no. of sixes overall ?"
   ]
  },
  {
   "cell_type": "code",
   "execution_count": 82,
   "metadata": {
    "scrolled": true
   },
   "outputs": [
    {
     "data": {
      "text/plain": [
       "[('SR Tendulkar', 6), ('SR Watson', 6)]"
      ]
     },
     "execution_count": 82,
     "metadata": {},
     "output_type": "execute_result"
    }
   ],
   "source": [
    "# An exercise to know who is the most aggresive player or maybe the scoring player \n",
    "batsman= data_ipl[data_ipl[:,16]=='6'][:,13]\n",
    "(batsman)\n",
    "from collections import Counter\n",
    "Counter(batsman).most_common(2)"
   ]
  },
  {
   "cell_type": "code",
   "execution_count": 74,
   "metadata": {},
   "outputs": [
    {
     "data": {
      "text/plain": [
       "array(['SR Tendulkar', 'SR Tendulkar', 'JP Duminy', 'JP Duminy',\n",
       "       'JP Duminy', 'JP Duminy', 'BJ Hodge', 'BJ Hodge', 'BJ Hodge',\n",
       "       'SR Tendulkar', 'SR Tendulkar', 'ST Jayasuriya', 'ST Jayasuriya',\n",
       "       'SR Tendulkar', 'ST Jayasuriya', 'ST Jayasuriya', 'SR Tendulkar',\n",
       "       'Harbhajan Singh', 'Harbhajan Singh', 'CH Gayle', 'SC Ganguly',\n",
       "       'TL Suman', 'TL Suman', 'AC Gilchrist', 'RG Sharma', 'DR Smith',\n",
       "       'Y Venugopal Rao', 'PR Shah', 'PR Shah', 'RR Raje', 'DR Smith',\n",
       "       'DR Smith', 'DR Smith', 'SV Samson', 'SV Samson', 'SR Watson',\n",
       "       'R Bhatia', 'DS Kulkarni', 'DS Kulkarni', 'MEK Hussey', 'M Vijay',\n",
       "       'MS Dhoni', 'S Badrinath', 'JD Ryder', 'M Manhas', 'K Goel',\n",
       "       'K Goel', 'KC Sangakkara', 'Yuvraj Singh', 'Yuvraj Singh',\n",
       "       'Yuvraj Singh', 'IK Pathan', 'Kamran Akmal', 'SR Watson',\n",
       "       'SR Watson', 'SR Watson', 'SR Watson', 'SR Watson', 'RA Jadeja'],\n",
       "      dtype='<U21')"
      ]
     },
     "execution_count": 74,
     "metadata": {},
     "output_type": "execute_result"
    }
   ],
   "source": [
    "batsman"
   ]
  },
  {
   "cell_type": "code",
   "execution_count": null,
   "metadata": {},
   "outputs": [],
   "source": []
  },
  {
   "cell_type": "code",
   "execution_count": null,
   "metadata": {},
   "outputs": [],
   "source": []
  }
 ],
 "metadata": {
  "kernelspec": {
   "display_name": "Python 3",
   "language": "python",
   "name": "python3"
  },
  "language_info": {
   "codemirror_mode": {
    "name": "ipython",
    "version": 3
   },
   "file_extension": ".py",
   "mimetype": "text/x-python",
   "name": "python",
   "nbconvert_exporter": "python",
   "pygments_lexer": "ipython3",
   "version": "3.7.1"
  }
 },
 "nbformat": 4,
 "nbformat_minor": 2
}
